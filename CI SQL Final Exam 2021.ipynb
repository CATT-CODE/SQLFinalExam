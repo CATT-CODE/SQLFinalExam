{
 "cells": [
  {
   "cell_type": "markdown",
   "metadata": {},
   "source": [
    "<h2>Final Exam</h2>\n",
    "You are a stock analyst working in the research department of a small<br>\n",
    "hedge fund.  Your job is to analyze the returns of a pool of securities<br>\n",
    "and back test the quants strategy of buys and sells.  You need<br>\n",
    "to load the 4 securities and test their strategy.<br>\n",
    "files:<br>\n",
    "INTC - Intel Corporation<br>\n",
    "AMD - Advanced Micro Devices<br>\n",
    "AAPL - Apple<br>\n",
    "FB - Meta Platforms, Inc.<br>\n",
    "corporations = {'INTC': 'Intel Corporation',<br>\n",
    "'AMD':'Advanced Micro Devices',<br>\n",
    "'AAPL':'Apple',<br>\n",
    "'FB':'Meta Platforms, Inc.'}<br>\n",
    "<br>\n",
    "NOTE: All trades use the closing price!!!!"
   ]
  },
  {
   "cell_type": "markdown",
   "metadata": {},
   "source": [
    "<h2>Step 1</h2>\n",
    "<h4>5 points</h4>\n",
    "Create a directory and place all of the csv files into it<br>\n",
    "Create the variable proj_dir = '  <your directory> '<br>\n",
    "db_name = 'stock_analysis'"
   ]
  },
  {
   "cell_type": "code",
   "execution_count": 674,
   "metadata": {},
   "outputs": [],
   "source": [
    "proj_dir = '/Users/DevOps/Documents/code-immersives/python/term-1/SQL_DB/Final_Files/'\n",
    "db_name = 'Stock_Analysis'"
   ]
  },
  {
   "cell_type": "markdown",
   "metadata": {},
   "source": [
    "<h2>Step 2</h2>\n",
    "<h4>5 points</h4>\n",
    "Create a database called 'Stock_Analysis'"
   ]
  },
  {
   "cell_type": "code",
   "execution_count": 675,
   "metadata": {},
   "outputs": [],
   "source": [
    "import os\n",
    "import sqlite3\n",
    "\n",
    "os.chdir('/Users/DevOps/Documents/code-immersives/python/term-1/SQL_DB/')\n",
    "conn = sqlite3.connect('Stock_Analysis.db')"
   ]
  },
  {
   "cell_type": "markdown",
   "metadata": {},
   "source": [
    "<h2>Step 3</h2>\n",
    "<h4>15 points</h4>\n",
    "Create the following tables:<br>\n",
    "1 - security_master<br>\n",
    "symbol<br>\n",
    "trade_date<br>\n",
    "open_price<br>\n",
    "high_price<br>\n",
    "low_price<br>\n",
    "adj_close<br>\n",
    "close_price<br>\n",
    "volume<br>\n",
    "<br>\n",
    "2 - security_info<br>\n",
    "symbol<br>\n",
    "name  Max of 25 characters<br>\n",
    "research_notes Max of 255 characters<br>\n",
    "<br>\n",
    "3 - security_log<br>\n",
    "transaction_id  Character max 20 alpha numeric<br>\n",
    "trade_date<br>\n",
    "symbol<br>\n",
    "trans_type   - (will contain only 'BUY' or 'SELL')<br>\n",
    "shares   (Will only contain whole numbers)<br>\n",
    "cost - Will hold dollar amounts<br>\n",
    "balance - Will hold dollar amounts<br>"
   ]
  },
  {
   "cell_type": "code",
   "execution_count": 676,
   "metadata": {},
   "outputs": [],
   "source": [
    "c = conn.cursor()\n",
    "\n",
    "c.executescript('''CREATE TABLE IF NOT EXISTS security_master(\n",
    "symbol TEXT,\n",
    "trade_date TEXT,\n",
    "open_price REAL,\n",
    "high_price REAL,\n",
    "low_price REAL,\n",
    "adj_close REAL,\n",
    "close_price REAL,\n",
    "volume INTEGER\n",
    ");\n",
    "DELETE FROM security_master;\n",
    "CREATE TABLE IF NOT EXISTS security_info(\n",
    "symbol TEXT,\n",
    "name TEXT,\n",
    "research_notes TEXT\n",
    ");\n",
    "DELETE FROM security_info;\n",
    "CREATE TABLE IF NOT EXISTS security_log(\n",
    "transaction_id TEXT,\n",
    "trade_date TEXT,\n",
    "symbol TEXT,\n",
    "trans_type TEXT,\n",
    "shares INTEGER,\n",
    "cost REAL,\n",
    "balance REAL\n",
    ");\n",
    "DELETE FROM security_log;\n",
    "''')\n",
    "conn.commit()"
   ]
  },
  {
   "cell_type": "markdown",
   "metadata": {},
   "source": [
    "<h2>Step 4</h2>\n",
    "<h4>15 points</h4>\n",
    "Load the security master table<br>\n",
    "Your code should read whatever files that are csv files in the directory<br>\n",
    "Use the dictionary below to populate the security_info table:<br>\n",
    "corporations = {'INTC': 'Intel Corporation',\n",
    "'AMD':'Advanced Micro Devices',\n",
    "'AAPL':'Apple',\n",
    "'FB':'Meta Platforms, Inc.'}"
   ]
  },
  {
   "cell_type": "code",
   "execution_count": 677,
   "metadata": {},
   "outputs": [],
   "source": [
    "import glob\n",
    "\n",
    "proj_dir = '/Users/DevOps/Documents/code-immersives/python/term-1/SQL_DB/Final_Files/'\n",
    "\n",
    "for file in glob.glob(proj_dir+ \"*.csv\"):\n",
    "\tfileParts = file.split('/')\n",
    "\twith open(proj_dir+fileParts[-1], 'r') as fh:\n",
    "\t\tline = fh.readline()\n",
    "\t\tcounter = 0\n",
    "\t\twhile line:\n",
    "\t\t\tif counter > 0:\n",
    "\t\t\t\tdate, opening, high, low, close, adjClose, volume = line.replace('\\n','').split(',')\n",
    "\t\t\t\tc.execute('INSERT INTO security_master VALUES (?,?,?,?,?,?,?,?)', (fileParts[-1][:-4], date, opening, high, low, adjClose, close, volume))\n",
    "\t\t\t\tconn.commit()\n",
    "\t\t\tcounter += 1\n",
    "\t\t\tline = fh.readline()\n",
    "\n",
    "corporations = {'INTC': 'Intel Corporation', 'AMD': 'Advanced Micro Devices',\n",
    "                'AAPL': 'Apple', 'FB': 'Meta Platforms, Inc.'}\n",
    "corpData = []\n",
    "\n",
    "for i,j in corporations.items():\n",
    "\tcorpData.append((i,j,''))\n",
    "\n",
    "c.executemany('INSERT INTO security_info VALUES (?,?,?)', corpData)\n",
    "conn.commit()\n"
   ]
  },
  {
   "cell_type": "markdown",
   "metadata": {},
   "source": [
    "<h2>Step 5</h2>\n",
    "<h4>10 points</h4>\n",
    "Print the symbol,name, and number of records of every security using 1 SQL statement<br>"
   ]
  },
  {
   "cell_type": "code",
   "execution_count": 678,
   "metadata": {},
   "outputs": [
    {
     "name": "stdout",
     "output_type": "stream",
     "text": [
      "[('Apple', 'AAPL', 754), ('Advanced Micro Devices', 'AMD', 754), ('Meta Platforms, Inc.', 'FB', 754), ('Intel Corporation', 'INTC', 754)]\n"
     ]
    }
   ],
   "source": [
    "c.execute('''SELECT B.name, A.symbol, count(*) FROM security_master AS A\n",
    "\tLEFT JOIN security_info B ON A.symbol = B.symbol\n",
    "\tGROUP BY A.symbol\n",
    "''')\n",
    "print(c.fetchall())"
   ]
  },
  {
   "cell_type": "markdown",
   "metadata": {},
   "source": [
    "<h2>Step 6</h2>\n",
    "<h4>10 points</h4>\n",
    "Print the average closing share price for each security in the year 2019<br>"
   ]
  },
  {
   "cell_type": "code",
   "execution_count": 679,
   "metadata": {},
   "outputs": [
    {
     "name": "stdout",
     "output_type": "stream",
     "text": [
      "[('AAPL', 52.06398806349207), ('AMD', 29.94107146031748), ('FB', 181.63749959523804), ('INTC', 51.37519813492058)]\n"
     ]
    }
   ],
   "source": [
    "c.execute('''SELECT symbol, avg(close_price) FROM security_master WHERE SUBSTR(trade_date,1,4) = '2019'\n",
    "\tGROUP BY symbol\n",
    "''')\n",
    "print(c.fetchall())"
   ]
  },
  {
   "cell_type": "markdown",
   "metadata": {},
   "source": [
    "<h2>Step 7</h2>\n",
    "<h4>5 points</h4>\n",
    "Print the max and min closing share price for each security in the year 2020<br>"
   ]
  },
  {
   "cell_type": "code",
   "execution_count": 680,
   "metadata": {},
   "outputs": [
    {
     "name": "stdout",
     "output_type": "stream",
     "text": [
      "[('AAPL', 56.092499, 136.690002), ('AMD', 38.709999, 97.120003), ('FB', 146.009995, 303.910004), ('INTC', 44.110001, 68.470001)]\n"
     ]
    }
   ],
   "source": [
    "c.execute('''SELECT symbol, min(close_price), max(close_price) FROM security_master WHERE SUBSTR(trade_date,1,4) = '2020'\n",
    "\tGROUP BY symbol\n",
    "''')\n",
    "print(c.fetchall())"
   ]
  },
  {
   "cell_type": "markdown",
   "metadata": {},
   "source": [
    "<h2>Step 8</h2>\n",
    "<h4>15 points</h4>\n",
    "Create a trading strategy to update the security_log table<br>\n",
    "if closed \"up\" for 5 consecutive days SELL 10000 shares, sell if \"down\" for 5 consecutive days <br>\n",
    "transaction_id = YYYYMMDD_symbol_random number, 100 up to 999<br>\n",
    "trade_date <br>\n",
    "symbol <br>\n",
    "trans_type BUY OR SELL<br>\n",
    "shares number of shares<br>\n",
    "cost =  -1 * close_price * shares if a BUY, close_price * shares if a SELL<br>\n",
    "<br>"
   ]
  },
  {
   "cell_type": "code",
   "execution_count": 681,
   "metadata": {
    "scrolled": true
   },
   "outputs": [
    {
     "name": "stdout",
     "output_type": "stream",
     "text": [
      "****** BUY HERE AMD - 2019-02-07 - 22.67 - 10000 - -226700.00000000003\n",
      "****** SELL HERE AMD 2019-02-08 23.049999 - 0 3799.9899999999616\n",
      "230499.99\n",
      "****** BUY HERE AMD - 2019-03-28 - 25.059999 - 10000 - -246800.00000000006\n",
      "****** SELL HERE AMD 2019-03-29 25.52 - 0 8399.999999999942\n",
      "255200.0\n",
      "****** BUY HERE AMD - 2019-06-25 - 28.860001 - 10000 - -280200.01000000007\n",
      "****** SELL HERE AMD 2019-06-26 29.92 - 0 18999.989999999932\n",
      "299200.0\n",
      "****** BUY HERE AMD - 2019-08-06 - 28.860001 - 10000 - -269600.0200000001\n",
      "****** SELL HERE AMD 2019-08-07 29.190001 - 0 22299.989999999932\n",
      "291900.01\n",
      "****** BUY HERE AMD - 2020-05-01 - 49.880001 - 10000 - -476500.0200000001\n",
      "****** SELL HERE AMD 2020-05-04 52.560001 - 0 49099.98999999993\n",
      "525600.01\n",
      "****** BUY HERE AMD - 2020-10-20 - 81.559998 - 10000 - -766499.99\n",
      "****** SELL HERE AMD 2020-10-21 79.199997 - 0 25499.97999999998\n",
      "791999.97\n",
      "****** BUY HERE AMD - 2020-12-22 - 93.160004 - 10000 - -906100.06\n",
      "****** SELL HERE AMD 2020-12-23 91.550003 - 0 9399.969999999972\n",
      "915500.03\n",
      "****** BUY HERE AMD - 2021-01-19 - 89.449997 - 10000 - -885100.0\n",
      "****** SELL HERE AMD 2021-01-20 88.75 - 0 2400.0\n",
      "887500.0\n",
      "****** BUY HERE AMD - 2021-01-28 - 87.519997 - 10000 - -872799.9700000001\n",
      "****** SELL HERE AMD 2021-01-29 85.639999 - 0 -16399.980000000098\n",
      "856399.99\n",
      "****** BUY HERE AMD - 2021-02-22 - 85.370003 - 10000 - -870100.0100000001\n",
      "****** SELL HERE AMD 2021-02-23 84.739998 - 0 -22700.030000000144\n",
      "847399.98\n",
      "****** BUY HERE AMD - 2021-03-08 - 73.959999 - 10000 - -762300.0200000001\n",
      "****** SELL HERE AMD 2021-03-09 78.529999 - 0 22999.969999999856\n",
      "785299.99\n",
      "****** BUY HERE AMD - 2021-05-03 - 78.550003 - 10000 - -762500.0600000002\n",
      "****** SELL HERE AMD 2021-05-04 78.610001 - 0 23599.949999999837\n",
      "786100.01\n",
      "****** BUY HERE AMD - 2021-07-16 - 85.889999 - 10000 - -835300.0400000002\n",
      "****** SELL HERE AMD 2021-07-19 86.580002 - 0 30499.97999999975\n",
      "865800.0199999999\n",
      "****** BUY HERE AMD - 2021-09-13 - 104.800003 - 10000 - -1017500.0500000003\n",
      "****** SELL HERE AMD 2021-09-14 105.730003 - 0 39799.97999999975\n",
      "1057300.03\n"
     ]
    }
   ],
   "source": [
    "import random\n",
    "import datetime\n",
    "\n",
    "c.execute(''' SELECT symbol, trade_date, close_price - open_price as diff, close_price FROM security_master WHERE symbol = 'AMD';''')\n",
    "rows = c.fetchall() \n",
    "\n",
    "up_days = 0; down_days = 0; tot_val = 0; tot_shares = 0; share_size = 10000\n",
    "\n",
    "for row in rows:\n",
    "\tsymbol = row[0]\n",
    "\tmyDate = datetime.datetime((int(row[1][:4])), int(row[1][5:7]), int(row[1][8:]))\n",
    "\ty, m, d = str(myDate.year), ('00'+str(myDate.month))[-2:], ('00'+str(myDate.day))[-2:]\n",
    "\ttransaction_id = f'{y}{m}{d}_{row[0]}_{str(random.randint(100,1000))}' \n",
    "\ttrade_date = row[1]\n",
    "\t''' if closed up for 5 consecutive days SELL 10000 shares sell if down for 5 consecute days ''' \n",
    "\tif row[2] > 0: \n",
    "\t\tup_days += 1 \n",
    "\t\tdown_days = 0 \n",
    "\telse: \n",
    "\t\tup_days = 0 \n",
    "\t\tdown_days += 1 \n",
    "\tif up_days >= 5: \n",
    "\t\tdown_days = 0 \n",
    "\t\t'''SELL signal''' \n",
    "\tif tot_shares > 0: \n",
    "\t\tfactor = 2 if tot_shares - (share_size*2) > 0 else 1 \n",
    "\t\ttot_val += ((share_size*factor) * row[3]) \n",
    "\t\ttot_shares -= (share_size*factor)  \n",
    "\t\tc.execute('''INSERT INTO security_log VALUES(?,?,?,?,?,?,?)''', (transaction_id, trade_date, symbol, \"SELL\", (share_size*factor), ((share_size*factor) * row[3]), tot_val))\n",
    "\t\tconn.commit()\n",
    "\t\tprint(f'****** SELL HERE {row[0]} {row[1]} {row[3]} - {tot_shares} {tot_val}')\n",
    "\tif down_days >= 5:\n",
    "\t\t\tup_days = 0\n",
    "\t\t\tdown_days = 0\n",
    "\t\t\t'''buy signal'''\n",
    "\t\t\ttot_val += (-1 * share_size * row[3])\n",
    "\t\t\ttot_shares += share_size\n",
    "\t\t\tc.execute('''INSERT INTO security_log VALUES(?,?,?,?,?,?,?)''', (transaction_id, trade_date,\n",
    "\t\t\t          symbol, \"BUY\", (share_size*factor), ((share_size*factor) * row[3]), tot_val))\n",
    "\t\t\tconn.commit()\n",
    "\t\t\tprint(\n",
    "\t\t\t\t\tf'****** BUY HERE {row[0]} {row[1]} {row[3]} - {tot_shares} {tot_val}')\n"
   ]
  },
  {
   "cell_type": "markdown",
   "metadata": {},
   "source": [
    "<h2>Step 9</h2>\n",
    "<h4>10 points</h4>\n",
    "Return the symbol,stock price,trans_type For all 2020 trades<br>"
   ]
  },
  {
   "cell_type": "code",
   "execution_count": 682,
   "metadata": {},
   "outputs": [
    {
     "name": "stdout",
     "output_type": "stream",
     "text": [
      "[('AMD', 498800.01, 'BUY'), ('AMD', 525600.01, 'SELL'), ('AMD', 815599.98, 'BUY'), ('AMD', 791999.97, 'SELL'), ('AMD', 931600.04, 'BUY'), ('AMD', 915500.03, 'SELL')]\n"
     ]
    }
   ],
   "source": [
    "c.execute('''SELECT symbol, cost, trans_type FROM security_log WHERE SUBSTR(trade_date,1,4) = '2020' ''')\n",
    "print(c.fetchall())\n"
   ]
  },
  {
   "cell_type": "markdown",
   "metadata": {},
   "source": [
    "<h2>Step 10</h2>\n",
    "<h4>10 points</h4>\n",
    "If you bought 100,000 shares of FB the first trading day of 2020 and sold<br>\n",
    "100,000 shares on the last day of 2020. How much would you have gained or lost?"
   ]
  },
  {
   "cell_type": "code",
   "execution_count": 683,
   "metadata": {},
   "outputs": [
    {
     "name": "stdout",
     "output_type": "stream",
     "text": [
      "[('2020-01-02', 20977999.9), ('2020-12-31', 27316000.400000002)]\n",
      "$6338000.5 gained if number is positive.\n"
     ]
    }
   ],
   "source": [
    "c.execute('''SELECT max(trade_date), 100000*close_price FROM security_master WHERE SUBSTR(trade_date,1,4) = '2020' AND symbol = 'FB'\n",
    "\tUNION\n",
    "\tSELECT min(trade_date), 100000*close_price FROM security_master WHERE SUBSTR(trade_date,1,4) = '2020' AND symbol = 'FB'\n",
    "''')\n",
    "row = c.fetchall()\n",
    "print(row)\n",
    "print(f'${round(row[1][1] - row[0][1],2)} gained if number is positive.')\n"
   ]
  }
 ],
 "metadata": {
  "interpreter": {
   "hash": "aee8b7b246df8f9039afb4144a1f6fd8d2ca17a180786b69acc140d282b71a49"
  },
  "kernelspec": {
   "display_name": "Python 3.9.7 64-bit",
   "name": "python3"
  },
  "language_info": {
   "codemirror_mode": {
    "name": "ipython",
    "version": 3
   },
   "file_extension": ".py",
   "mimetype": "text/x-python",
   "name": "python",
   "nbconvert_exporter": "python",
   "pygments_lexer": "ipython3",
   "version": "3.9.7"
  }
 },
 "nbformat": 4,
 "nbformat_minor": 2
}
